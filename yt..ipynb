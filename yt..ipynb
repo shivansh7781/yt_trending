{
 "cells": [
  {
   "cell_type": "code",
   "execution_count": 20,
   "metadata": {},
   "outputs": [],
   "source": [
    "import pandas as pd\n",
    "import numpy as np\n",
    "import matplotlib.pyplot as plt\n",
    "import seaborn as sns\n"
   ]
  },
  {
   "cell_type": "code",
   "execution_count": 21,
   "metadata": {},
   "outputs": [],
   "source": [
    "df = pd.read_csv('trending.csv')"
   ]
  },
  {
   "cell_type": "code",
   "execution_count": 22,
   "metadata": {},
   "outputs": [
    {
     "name": "stdout",
     "output_type": "stream",
     "text": [
      "           video_id                                              title  \\\n",
      "0       Iot0eF6EoNA  Sadak 2 | Official Trailer | Sanjay | Pooja | ...   \n",
      "1       x-KbnJ9fvJc  Kya Baat Aa : Karan Aujla (Official Video) Tan...   \n",
      "2       KX06ksuS6Xo  Diljit Dosanjh: CLASH (Official) Music Video |...   \n",
      "3       UsMRgnTcchY  Dil Ko Maine Di Kasam Video | Amaal M Ft.Ariji...   \n",
      "4       WNSEXJJhKTU  Baarish (Official Video) Payal Dev,Stebin Ben ...   \n",
      "...             ...                                                ...   \n",
      "251272  VKuNHLgrQno  Powerful Hanuman Chalisa | HanuMan(Telugu) | T...   \n",
      "251273  2Dxg3g2MfJg  Indian Army Admit Card 2024 Kaise Download kar...   \n",
      "251274  YDzOPDxinmA  NEW Deadpool 3 Trailer Has Thor? Captain Ameri...   \n",
      "251275  KqtXJCZMhcs                     FAAD MAGICIAN- CHUSO TOH JAANE   \n",
      "251276  7bKql74_9Pg  Match Highlights | Hyderabad FC 1-3 Kerala Bla...   \n",
      "\n",
      "                 publishedAt                 channelId         channelTitle  \\\n",
      "0       2020-08-12T04:31:41Z  UCGqvJPRcv7aVFun-eTsatcA         FoxStarHindi   \n",
      "1       2020-08-11T09:00:11Z  UCm9SZAl03Rev9sFwloCdz1g       Rehaan Records   \n",
      "2       2020-08-11T07:30:02Z  UCZRdNleCgW-BGUJf-bbjzQg       Diljit Dosanjh   \n",
      "3       2020-08-10T05:30:49Z  UCq-Fj5jknLsUf-MWSy4_brA             T-Series   \n",
      "4       2020-08-11T05:30:13Z  UCye6Oz0mg46S362LwARGVcA        VYRLOriginals   \n",
      "...                      ...                       ...                  ...   \n",
      "251272  2024-04-09T02:30:22Z  UC2V5vzgmEmoiWqXfM2jN5_w          Tips Telugu   \n",
      "251273  2024-04-12T11:31:50Z  UCQ7P1lEiG0uR-G8sU_zT0wg          Super Study   \n",
      "251274  2024-04-12T07:11:00Z  UCKQ5Jj35sjTmJigRtlCPhVQ           ComicVerse   \n",
      "251275  2024-04-11T14:45:01Z  UCxyrQT5syO1KlJ9z7aUPf5Q           RJ Abhinav   \n",
      "251276  2024-04-12T17:27:51Z  UCJk-aQ7NZtqYtpcqKDt_vZg  Indian Super League   \n",
      "\n",
      "        categoryId         trending_date  \\\n",
      "0               24  2020-08-12T00:00:00Z   \n",
      "1               10  2020-08-12T00:00:00Z   \n",
      "2               10  2020-08-12T00:00:00Z   \n",
      "3               10  2020-08-12T00:00:00Z   \n",
      "4               10  2020-08-12T00:00:00Z   \n",
      "...            ...                   ...   \n",
      "251272          10  2024-04-15T00:00:00Z   \n",
      "251273          27  2024-04-15T00:00:00Z   \n",
      "251274          24  2024-04-15T00:00:00Z   \n",
      "251275          24  2024-04-15T00:00:00Z   \n",
      "251276          17  2024-04-15T00:00:00Z   \n",
      "\n",
      "                                                     tags  view_count   likes  \\\n",
      "0       sadak|sadak 2|mahesh bhatt|vishesh films|pooja...     9885899  224925   \n",
      "1                                                  [None]    11308046  655450   \n",
      "2       clash diljit dosanjh|diljit dosanjh|diljit dos...     9140911  296533   \n",
      "3       hindi songs|2020 hindi songs|2020 new songs|t-...    23564512  743931   \n",
      "4       VYRL Original|Mohsin Khan|Shivangi Joshi|Payal...     6783649  268817   \n",
      "...                                                   ...         ...     ...   \n",
      "251272  Tips Telugu|Hanuman chalisa|Hanuman telugu mov...     1542862       0   \n",
      "251273  army admit card|army admit card 2024|indian ar...       62587    1419   \n",
      "251274           comicverse|comic verse|comicverse marvel      411192   27970   \n",
      "251275  Daily Vlogs|Comedy Vlogs|Lifestyle Vlogs|Daily...      201091   15222   \n",
      "251276  Hero ISL|Indian Super League|Indian football|F...      296741   10804   \n",
      "\n",
      "        dislikes  comment_count  \\\n",
      "0        3979409         350210   \n",
      "1          33242         405146   \n",
      "2           6179          30058   \n",
      "3          84162         136942   \n",
      "4           8798          22984   \n",
      "...          ...            ...   \n",
      "251272         0            404   \n",
      "251273         0            133   \n",
      "251274         0            502   \n",
      "251275         0            500   \n",
      "251276         0            326   \n",
      "\n",
      "                                        thumbnail_link  comments_disabled  \\\n",
      "0       https://i.ytimg.com/vi/Iot0eF6EoNA/default.jpg              False   \n",
      "1       https://i.ytimg.com/vi/x-KbnJ9fvJc/default.jpg              False   \n",
      "2       https://i.ytimg.com/vi/KX06ksuS6Xo/default.jpg              False   \n",
      "3       https://i.ytimg.com/vi/UsMRgnTcchY/default.jpg              False   \n",
      "4       https://i.ytimg.com/vi/WNSEXJJhKTU/default.jpg              False   \n",
      "...                                                ...                ...   \n",
      "251272  https://i.ytimg.com/vi/VKuNHLgrQno/default.jpg              False   \n",
      "251273  https://i.ytimg.com/vi/2Dxg3g2MfJg/default.jpg              False   \n",
      "251274  https://i.ytimg.com/vi/YDzOPDxinmA/default.jpg              False   \n",
      "251275  https://i.ytimg.com/vi/KqtXJCZMhcs/default.jpg              False   \n",
      "251276  https://i.ytimg.com/vi/7bKql74_9Pg/default.jpg              False   \n",
      "\n",
      "        ratings_disabled                                        description  \n",
      "0                  False  Three Streams. Three Stories. One Journey. Sta...  \n",
      "1                  False  Singer/Lyrics: Karan Aujla Feat Tania Music/ D...  \n",
      "2                  False  CLASH official music video performed by DILJIT...  \n",
      "3                  False  Gulshan Kumar and T-Series presents Bhushan Ku...  \n",
      "4                  False  VYRL Originals brings to you ‘Baarish’ - the b...  \n",
      "...                  ...                                                ...  \n",
      "251272              True  Here is Full Video Song Of Powerful Hanuman Ch...  \n",
      "251273             False  Army Admit Card 2024 || Agniveer Admit Card 20...  \n",
      "251274             False  #ComicVerse Enjoyed The Video, Drop a 'Like' a...  \n",
      "251275             False  RJ Abhinav and Alka maam is back with all the ...  \n",
      "251276             False  @keralablasters. score 3⃣ past Hyderabad FC to...  \n",
      "\n",
      "[251277 rows x 16 columns]\n"
     ]
    }
   ],
   "source": [
    "print(df)"
   ]
  },
  {
   "cell_type": "code",
   "execution_count": 23,
   "metadata": {},
   "outputs": [
    {
     "name": "stdout",
     "output_type": "stream",
     "text": [
      "Index(['video_id', 'title', 'publishedAt', 'channelId', 'channelTitle',\n",
      "       'categoryId', 'trending_date', 'tags', 'view_count', 'likes',\n",
      "       'dislikes', 'comment_count', 'thumbnail_link', 'comments_disabled',\n",
      "       'ratings_disabled', 'description'],\n",
      "      dtype='object')\n"
     ]
    }
   ],
   "source": [
    "print(df.columns)"
   ]
  },
  {
   "cell_type": "code",
   "execution_count": 24,
   "metadata": {},
   "outputs": [
    {
     "name": "stdout",
     "output_type": "stream",
     "text": [
      "<class 'pandas.core.frame.DataFrame'>\n",
      "RangeIndex: 251277 entries, 0 to 251276\n",
      "Data columns (total 16 columns):\n",
      " #   Column             Non-Null Count   Dtype \n",
      "---  ------             --------------   ----- \n",
      " 0   video_id           251277 non-null  object\n",
      " 1   title              251277 non-null  object\n",
      " 2   publishedAt        251277 non-null  object\n",
      " 3   channelId          251277 non-null  object\n",
      " 4   channelTitle       251276 non-null  object\n",
      " 5   categoryId         251277 non-null  int64 \n",
      " 6   trending_date      251277 non-null  object\n",
      " 7   tags               251277 non-null  object\n",
      " 8   view_count         251277 non-null  int64 \n",
      " 9   likes              251277 non-null  int64 \n",
      " 10  dislikes           251277 non-null  int64 \n",
      " 11  comment_count      251277 non-null  int64 \n",
      " 12  thumbnail_link     251277 non-null  object\n",
      " 13  comments_disabled  251277 non-null  bool  \n",
      " 14  ratings_disabled   251277 non-null  bool  \n",
      " 15  description        231822 non-null  object\n",
      "dtypes: bool(2), int64(5), object(9)\n",
      "memory usage: 27.3+ MB\n"
     ]
    }
   ],
   "source": [
    "df.info()"
   ]
  },
  {
   "cell_type": "code",
   "execution_count": 25,
   "metadata": {},
   "outputs": [
    {
     "data": {
      "text/plain": [
       "video_id                 0\n",
       "title                    0\n",
       "publishedAt              0\n",
       "channelId                0\n",
       "channelTitle             1\n",
       "categoryId               0\n",
       "trending_date            0\n",
       "tags                     0\n",
       "view_count               0\n",
       "likes                    0\n",
       "dislikes                 0\n",
       "comment_count            0\n",
       "thumbnail_link           0\n",
       "comments_disabled        0\n",
       "ratings_disabled         0\n",
       "description          19455\n",
       "dtype: int64"
      ]
     },
     "execution_count": 25,
     "metadata": {},
     "output_type": "execute_result"
    }
   ],
   "source": [
    "df.isnull().sum()"
   ]
  },
  {
   "cell_type": "code",
   "execution_count": 26,
   "metadata": {},
   "outputs": [
    {
     "data": {
      "text/plain": [
       "0         False\n",
       "1         False\n",
       "2         False\n",
       "3         False\n",
       "4         False\n",
       "          ...  \n",
       "251272    False\n",
       "251273    False\n",
       "251274    False\n",
       "251275    False\n",
       "251276    False\n",
       "Length: 251277, dtype: bool"
      ]
     },
     "execution_count": 26,
     "metadata": {},
     "output_type": "execute_result"
    }
   ],
   "source": [
    "df.duplicated()"
   ]
  },
  {
   "cell_type": "code",
   "execution_count": 27,
   "metadata": {},
   "outputs": [
    {
     "data": {
      "text/plain": [
       "75"
      ]
     },
     "execution_count": 27,
     "metadata": {},
     "output_type": "execute_result"
    }
   ],
   "source": [
    "df.duplicated().sum()"
   ]
  },
  {
   "cell_type": "code",
   "execution_count": 28,
   "metadata": {},
   "outputs": [],
   "source": [
    "df = df.drop_duplicates()"
   ]
  },
  {
   "cell_type": "code",
   "execution_count": 29,
   "metadata": {},
   "outputs": [
    {
     "data": {
      "text/plain": [
       "0"
      ]
     },
     "execution_count": 29,
     "metadata": {},
     "output_type": "execute_result"
    }
   ],
   "source": [
    "df.duplicated().sum()"
   ]
  },
  {
   "cell_type": "code",
   "execution_count": 30,
   "metadata": {},
   "outputs": [],
   "source": [
    "df[\"description\"]=df[\"description\"].fillna(\"Not Available\")"
   ]
  },
  {
   "cell_type": "code",
   "execution_count": 31,
   "metadata": {},
   "outputs": [
    {
     "name": "stdout",
     "output_type": "stream",
     "text": [
      "<class 'pandas.core.frame.DataFrame'>\n",
      "Index: 251202 entries, 0 to 251276\n",
      "Data columns (total 16 columns):\n",
      " #   Column             Non-Null Count   Dtype \n",
      "---  ------             --------------   ----- \n",
      " 0   video_id           251202 non-null  object\n",
      " 1   title              251202 non-null  object\n",
      " 2   publishedAt        251202 non-null  object\n",
      " 3   channelId          251202 non-null  object\n",
      " 4   channelTitle       251201 non-null  object\n",
      " 5   categoryId         251202 non-null  int64 \n",
      " 6   trending_date      251202 non-null  object\n",
      " 7   tags               251202 non-null  object\n",
      " 8   view_count         251202 non-null  int64 \n",
      " 9   likes              251202 non-null  int64 \n",
      " 10  dislikes           251202 non-null  int64 \n",
      " 11  comment_count      251202 non-null  int64 \n",
      " 12  thumbnail_link     251202 non-null  object\n",
      " 13  comments_disabled  251202 non-null  bool  \n",
      " 14  ratings_disabled   251202 non-null  bool  \n",
      " 15  description        251202 non-null  object\n",
      "dtypes: bool(2), int64(5), object(9)\n",
      "memory usage: 29.2+ MB\n"
     ]
    }
   ],
   "source": [
    "df.info()"
   ]
  },
  {
   "cell_type": "code",
   "execution_count": 32,
   "metadata": {},
   "outputs": [
    {
     "data": {
      "text/html": [
       "<div>\n",
       "<style scoped>\n",
       "    .dataframe tbody tr th:only-of-type {\n",
       "        vertical-align: middle;\n",
       "    }\n",
       "\n",
       "    .dataframe tbody tr th {\n",
       "        vertical-align: top;\n",
       "    }\n",
       "\n",
       "    .dataframe thead th {\n",
       "        text-align: right;\n",
       "    }\n",
       "</style>\n",
       "<table border=\"1\" class=\"dataframe\">\n",
       "  <thead>\n",
       "    <tr style=\"text-align: right;\">\n",
       "      <th></th>\n",
       "      <th>video_id</th>\n",
       "      <th>title</th>\n",
       "      <th>publishedAt</th>\n",
       "      <th>channelId</th>\n",
       "      <th>channelTitle</th>\n",
       "      <th>categoryId</th>\n",
       "      <th>trending_date</th>\n",
       "      <th>tags</th>\n",
       "      <th>view_count</th>\n",
       "      <th>likes</th>\n",
       "      <th>dislikes</th>\n",
       "      <th>comment_count</th>\n",
       "      <th>thumbnail_link</th>\n",
       "      <th>comments_disabled</th>\n",
       "      <th>ratings_disabled</th>\n",
       "      <th>description</th>\n",
       "    </tr>\n",
       "  </thead>\n",
       "  <tbody>\n",
       "    <tr>\n",
       "      <th>0</th>\n",
       "      <td>Iot0eF6EoNA</td>\n",
       "      <td>Sadak 2 | Official Trailer | Sanjay | Pooja | ...</td>\n",
       "      <td>2020-08-12T04:31:41Z</td>\n",
       "      <td>UCGqvJPRcv7aVFun-eTsatcA</td>\n",
       "      <td>FoxStarHindi</td>\n",
       "      <td>24</td>\n",
       "      <td>2020-08-12T00:00:00Z</td>\n",
       "      <td>sadak|sadak 2|mahesh bhatt|vishesh films|pooja...</td>\n",
       "      <td>9885899</td>\n",
       "      <td>224925</td>\n",
       "      <td>3979409</td>\n",
       "      <td>350210</td>\n",
       "      <td>https://i.ytimg.com/vi/Iot0eF6EoNA/default.jpg</td>\n",
       "      <td>False</td>\n",
       "      <td>False</td>\n",
       "      <td>Three Streams. Three Stories. One Journey. Sta...</td>\n",
       "    </tr>\n",
       "    <tr>\n",
       "      <th>1</th>\n",
       "      <td>x-KbnJ9fvJc</td>\n",
       "      <td>Kya Baat Aa : Karan Aujla (Official Video) Tan...</td>\n",
       "      <td>2020-08-11T09:00:11Z</td>\n",
       "      <td>UCm9SZAl03Rev9sFwloCdz1g</td>\n",
       "      <td>Rehaan Records</td>\n",
       "      <td>10</td>\n",
       "      <td>2020-08-12T00:00:00Z</td>\n",
       "      <td>[None]</td>\n",
       "      <td>11308046</td>\n",
       "      <td>655450</td>\n",
       "      <td>33242</td>\n",
       "      <td>405146</td>\n",
       "      <td>https://i.ytimg.com/vi/x-KbnJ9fvJc/default.jpg</td>\n",
       "      <td>False</td>\n",
       "      <td>False</td>\n",
       "      <td>Singer/Lyrics: Karan Aujla Feat Tania Music/ D...</td>\n",
       "    </tr>\n",
       "    <tr>\n",
       "      <th>2</th>\n",
       "      <td>KX06ksuS6Xo</td>\n",
       "      <td>Diljit Dosanjh: CLASH (Official) Music Video |...</td>\n",
       "      <td>2020-08-11T07:30:02Z</td>\n",
       "      <td>UCZRdNleCgW-BGUJf-bbjzQg</td>\n",
       "      <td>Diljit Dosanjh</td>\n",
       "      <td>10</td>\n",
       "      <td>2020-08-12T00:00:00Z</td>\n",
       "      <td>clash diljit dosanjh|diljit dosanjh|diljit dos...</td>\n",
       "      <td>9140911</td>\n",
       "      <td>296533</td>\n",
       "      <td>6179</td>\n",
       "      <td>30058</td>\n",
       "      <td>https://i.ytimg.com/vi/KX06ksuS6Xo/default.jpg</td>\n",
       "      <td>False</td>\n",
       "      <td>False</td>\n",
       "      <td>CLASH official music video performed by DILJIT...</td>\n",
       "    </tr>\n",
       "    <tr>\n",
       "      <th>3</th>\n",
       "      <td>UsMRgnTcchY</td>\n",
       "      <td>Dil Ko Maine Di Kasam Video | Amaal M Ft.Ariji...</td>\n",
       "      <td>2020-08-10T05:30:49Z</td>\n",
       "      <td>UCq-Fj5jknLsUf-MWSy4_brA</td>\n",
       "      <td>T-Series</td>\n",
       "      <td>10</td>\n",
       "      <td>2020-08-12T00:00:00Z</td>\n",
       "      <td>hindi songs|2020 hindi songs|2020 new songs|t-...</td>\n",
       "      <td>23564512</td>\n",
       "      <td>743931</td>\n",
       "      <td>84162</td>\n",
       "      <td>136942</td>\n",
       "      <td>https://i.ytimg.com/vi/UsMRgnTcchY/default.jpg</td>\n",
       "      <td>False</td>\n",
       "      <td>False</td>\n",
       "      <td>Gulshan Kumar and T-Series presents Bhushan Ku...</td>\n",
       "    </tr>\n",
       "    <tr>\n",
       "      <th>4</th>\n",
       "      <td>WNSEXJJhKTU</td>\n",
       "      <td>Baarish (Official Video) Payal Dev,Stebin Ben ...</td>\n",
       "      <td>2020-08-11T05:30:13Z</td>\n",
       "      <td>UCye6Oz0mg46S362LwARGVcA</td>\n",
       "      <td>VYRLOriginals</td>\n",
       "      <td>10</td>\n",
       "      <td>2020-08-12T00:00:00Z</td>\n",
       "      <td>VYRL Original|Mohsin Khan|Shivangi Joshi|Payal...</td>\n",
       "      <td>6783649</td>\n",
       "      <td>268817</td>\n",
       "      <td>8798</td>\n",
       "      <td>22984</td>\n",
       "      <td>https://i.ytimg.com/vi/WNSEXJJhKTU/default.jpg</td>\n",
       "      <td>False</td>\n",
       "      <td>False</td>\n",
       "      <td>VYRL Originals brings to you ‘Baarish’ - the b...</td>\n",
       "    </tr>\n",
       "  </tbody>\n",
       "</table>\n",
       "</div>"
      ],
      "text/plain": [
       "      video_id                                              title  \\\n",
       "0  Iot0eF6EoNA  Sadak 2 | Official Trailer | Sanjay | Pooja | ...   \n",
       "1  x-KbnJ9fvJc  Kya Baat Aa : Karan Aujla (Official Video) Tan...   \n",
       "2  KX06ksuS6Xo  Diljit Dosanjh: CLASH (Official) Music Video |...   \n",
       "3  UsMRgnTcchY  Dil Ko Maine Di Kasam Video | Amaal M Ft.Ariji...   \n",
       "4  WNSEXJJhKTU  Baarish (Official Video) Payal Dev,Stebin Ben ...   \n",
       "\n",
       "            publishedAt                 channelId    channelTitle  categoryId  \\\n",
       "0  2020-08-12T04:31:41Z  UCGqvJPRcv7aVFun-eTsatcA    FoxStarHindi          24   \n",
       "1  2020-08-11T09:00:11Z  UCm9SZAl03Rev9sFwloCdz1g  Rehaan Records          10   \n",
       "2  2020-08-11T07:30:02Z  UCZRdNleCgW-BGUJf-bbjzQg  Diljit Dosanjh          10   \n",
       "3  2020-08-10T05:30:49Z  UCq-Fj5jknLsUf-MWSy4_brA        T-Series          10   \n",
       "4  2020-08-11T05:30:13Z  UCye6Oz0mg46S362LwARGVcA   VYRLOriginals          10   \n",
       "\n",
       "          trending_date                                               tags  \\\n",
       "0  2020-08-12T00:00:00Z  sadak|sadak 2|mahesh bhatt|vishesh films|pooja...   \n",
       "1  2020-08-12T00:00:00Z                                             [None]   \n",
       "2  2020-08-12T00:00:00Z  clash diljit dosanjh|diljit dosanjh|diljit dos...   \n",
       "3  2020-08-12T00:00:00Z  hindi songs|2020 hindi songs|2020 new songs|t-...   \n",
       "4  2020-08-12T00:00:00Z  VYRL Original|Mohsin Khan|Shivangi Joshi|Payal...   \n",
       "\n",
       "   view_count   likes  dislikes  comment_count  \\\n",
       "0     9885899  224925   3979409         350210   \n",
       "1    11308046  655450     33242         405146   \n",
       "2     9140911  296533      6179          30058   \n",
       "3    23564512  743931     84162         136942   \n",
       "4     6783649  268817      8798          22984   \n",
       "\n",
       "                                   thumbnail_link  comments_disabled  \\\n",
       "0  https://i.ytimg.com/vi/Iot0eF6EoNA/default.jpg              False   \n",
       "1  https://i.ytimg.com/vi/x-KbnJ9fvJc/default.jpg              False   \n",
       "2  https://i.ytimg.com/vi/KX06ksuS6Xo/default.jpg              False   \n",
       "3  https://i.ytimg.com/vi/UsMRgnTcchY/default.jpg              False   \n",
       "4  https://i.ytimg.com/vi/WNSEXJJhKTU/default.jpg              False   \n",
       "\n",
       "   ratings_disabled                                        description  \n",
       "0             False  Three Streams. Three Stories. One Journey. Sta...  \n",
       "1             False  Singer/Lyrics: Karan Aujla Feat Tania Music/ D...  \n",
       "2             False  CLASH official music video performed by DILJIT...  \n",
       "3             False  Gulshan Kumar and T-Series presents Bhushan Ku...  \n",
       "4             False  VYRL Originals brings to you ‘Baarish’ - the b...  "
      ]
     },
     "execution_count": 32,
     "metadata": {},
     "output_type": "execute_result"
    }
   ],
   "source": [
    "df.head()"
   ]
  },
  {
   "cell_type": "code",
   "execution_count": 33,
   "metadata": {},
   "outputs": [],
   "source": [
    "df['publish_date'] = pd.to_datetime(df['publishedAt']).dt.date"
   ]
  },
  {
   "cell_type": "code",
   "execution_count": 34,
   "metadata": {},
   "outputs": [
    {
     "name": "stdout",
     "output_type": "stream",
     "text": [
      "<class 'pandas.core.frame.DataFrame'>\n",
      "Index: 251202 entries, 0 to 251276\n",
      "Data columns (total 17 columns):\n",
      " #   Column             Non-Null Count   Dtype         \n",
      "---  ------             --------------   -----         \n",
      " 0   video_id           251202 non-null  object        \n",
      " 1   title              251202 non-null  object        \n",
      " 2   publishedAt        251202 non-null  object        \n",
      " 3   channelId          251202 non-null  object        \n",
      " 4   channelTitle       251201 non-null  object        \n",
      " 5   categoryId         251202 non-null  int64         \n",
      " 6   trending_date      251202 non-null  object        \n",
      " 7   tags               251202 non-null  object        \n",
      " 8   view_count         251202 non-null  int64         \n",
      " 9   likes              251202 non-null  int64         \n",
      " 10  dislikes           251202 non-null  int64         \n",
      " 11  comment_count      251202 non-null  int64         \n",
      " 12  thumbnail_link     251202 non-null  object        \n",
      " 13  comments_disabled  251202 non-null  bool          \n",
      " 14  ratings_disabled   251202 non-null  bool          \n",
      " 15  description        251202 non-null  object        \n",
      " 16  publish_date       251202 non-null  datetime64[ns]\n",
      "dtypes: bool(2), datetime64[ns](1), int64(5), object(9)\n",
      "memory usage: 31.1+ MB\n"
     ]
    }
   ],
   "source": [
    "df[\"publish_date\"] = pd.to_datetime(df[\"publish_date\"])\n",
    "df.info()"
   ]
  },
  {
   "cell_type": "code",
   "execution_count": 35,
   "metadata": {},
   "outputs": [
    {
     "data": {
      "text/html": [
       "<div>\n",
       "<style scoped>\n",
       "    .dataframe tbody tr th:only-of-type {\n",
       "        vertical-align: middle;\n",
       "    }\n",
       "\n",
       "    .dataframe tbody tr th {\n",
       "        vertical-align: top;\n",
       "    }\n",
       "\n",
       "    .dataframe thead th {\n",
       "        text-align: right;\n",
       "    }\n",
       "</style>\n",
       "<table border=\"1\" class=\"dataframe\">\n",
       "  <thead>\n",
       "    <tr style=\"text-align: right;\">\n",
       "      <th></th>\n",
       "      <th>view_count</th>\n",
       "    </tr>\n",
       "    <tr>\n",
       "      <th>channelTitle</th>\n",
       "      <th></th>\n",
       "    </tr>\n",
       "  </thead>\n",
       "  <tbody>\n",
       "    <tr>\n",
       "      <th>T-Series</th>\n",
       "      <td>26997737316</td>\n",
       "    </tr>\n",
       "    <tr>\n",
       "      <th>MrBeast</th>\n",
       "      <td>15748817791</td>\n",
       "    </tr>\n",
       "    <tr>\n",
       "      <th>Sourav Joshi Vlogs</th>\n",
       "      <td>11761288222</td>\n",
       "    </tr>\n",
       "    <tr>\n",
       "      <th>HAR PAL GEO</th>\n",
       "      <td>11403761002</td>\n",
       "    </tr>\n",
       "    <tr>\n",
       "      <th>BLACKPINK</th>\n",
       "      <td>8739144105</td>\n",
       "    </tr>\n",
       "    <tr>\n",
       "      <th>ARY Digital HD</th>\n",
       "      <td>8293526826</td>\n",
       "    </tr>\n",
       "    <tr>\n",
       "      <th>Zee Music Company</th>\n",
       "      <td>8092466759</td>\n",
       "    </tr>\n",
       "  </tbody>\n",
       "</table>\n",
       "</div>"
      ],
      "text/plain": [
       "                     view_count\n",
       "channelTitle                   \n",
       "T-Series            26997737316\n",
       "MrBeast             15748817791\n",
       "Sourav Joshi Vlogs  11761288222\n",
       "HAR PAL GEO         11403761002\n",
       "BLACKPINK            8739144105\n",
       "ARY Digital HD       8293526826\n",
       "Zee Music Company    8092466759"
      ]
     },
     "execution_count": 35,
     "metadata": {},
     "output_type": "execute_result"
    }
   ],
   "source": [
    "gb = df.groupby('channelTitle').agg({'view_count': 'sum'}).sort_values(by='view_count', ascending=False).head(7)\n",
    "gb\n"
   ]
  },
  {
   "cell_type": "code",
   "execution_count": 36,
   "metadata": {},
   "outputs": [],
   "source": [
    "gb1=df.groupby('title').agg({'view_count': 'sum'})\n",
    "gb1=gb1.sort_values(by='view_count', ascending=False).head(7)\n",
    "gb1=gb1.head()"
   ]
  },
  {
   "cell_type": "code",
   "execution_count": 37,
   "metadata": {},
   "outputs": [
    {
     "data": {
      "text/html": [
       "<div>\n",
       "<style scoped>\n",
       "    .dataframe tbody tr th:only-of-type {\n",
       "        vertical-align: middle;\n",
       "    }\n",
       "\n",
       "    .dataframe tbody tr th {\n",
       "        vertical-align: top;\n",
       "    }\n",
       "\n",
       "    .dataframe thead th {\n",
       "        text-align: right;\n",
       "    }\n",
       "</style>\n",
       "<table border=\"1\" class=\"dataframe\">\n",
       "  <thead>\n",
       "    <tr style=\"text-align: right;\">\n",
       "      <th></th>\n",
       "      <th>view_count</th>\n",
       "    </tr>\n",
       "    <tr>\n",
       "      <th>title</th>\n",
       "      <th></th>\n",
       "    </tr>\n",
       "  </thead>\n",
       "  <tbody>\n",
       "    <tr>\n",
       "      <th>BTS (방탄소년단) 'Dynamite' Official MV</th>\n",
       "      <td>1887077945</td>\n",
       "    </tr>\n",
       "    <tr>\n",
       "      <th>KGF Chapter2 TEASER |Yash|Sanjay Dutt|Raveena Tandon|Srinidhi Shetty|Prashanth Neel|Vijay Kiragandur</th>\n",
       "      <td>1495945829</td>\n",
       "    </tr>\n",
       "    <tr>\n",
       "      <th>Filhaal2 Mohabbat | Akshay Kumar Ft Nupur Sanon | Ammy Virk | BPraak | Jaani | Arvindr Khaira</th>\n",
       "      <td>1366495429</td>\n",
       "    </tr>\n",
       "    <tr>\n",
       "      <th>Paytm IPL 2021 Ad - The Salon (English)</th>\n",
       "      <td>1327627464</td>\n",
       "    </tr>\n",
       "    <tr>\n",
       "      <th>jai shree ram 🚩#shorts #ashortaday</th>\n",
       "      <td>1313333865</td>\n",
       "    </tr>\n",
       "  </tbody>\n",
       "</table>\n",
       "</div>"
      ],
      "text/plain": [
       "                                                    view_count\n",
       "title                                                         \n",
       "BTS (방탄소년단) 'Dynamite' Official MV                  1887077945\n",
       "KGF Chapter2 TEASER |Yash|Sanjay Dutt|Raveena T...  1495945829\n",
       "Filhaal2 Mohabbat | Akshay Kumar Ft Nupur Sanon...  1366495429\n",
       "Paytm IPL 2021 Ad - The Salon (English)             1327627464\n",
       "jai shree ram 🚩#shorts #ashortaday                  1313333865"
      ]
     },
     "execution_count": 37,
     "metadata": {},
     "output_type": "execute_result"
    }
   ],
   "source": [
    "gb1"
   ]
  },
  {
   "cell_type": "code",
   "execution_count": 38,
   "metadata": {},
   "outputs": [
    {
     "data": {
      "text/html": [
       "<div>\n",
       "<style scoped>\n",
       "    .dataframe tbody tr th:only-of-type {\n",
       "        vertical-align: middle;\n",
       "    }\n",
       "\n",
       "    .dataframe tbody tr th {\n",
       "        vertical-align: top;\n",
       "    }\n",
       "\n",
       "    .dataframe thead th {\n",
       "        text-align: right;\n",
       "    }\n",
       "</style>\n",
       "<table border=\"1\" class=\"dataframe\">\n",
       "  <thead>\n",
       "    <tr style=\"text-align: right;\">\n",
       "      <th></th>\n",
       "      <th>title</th>\n",
       "      <th>likes</th>\n",
       "    </tr>\n",
       "  </thead>\n",
       "  <tbody>\n",
       "    <tr>\n",
       "      <th>3619</th>\n",
       "      <td>BTS (방탄소년단) 'Dynamite' Official MV</td>\n",
       "      <td>16115240</td>\n",
       "    </tr>\n",
       "    <tr>\n",
       "      <th>52057</th>\n",
       "      <td>BTS (방탄소년단) 'Butter' Official MV</td>\n",
       "      <td>16021542</td>\n",
       "    </tr>\n",
       "    <tr>\n",
       "      <th>3371</th>\n",
       "      <td>BTS (방탄소년단) 'Dynamite' Official MV</td>\n",
       "      <td>15948359</td>\n",
       "    </tr>\n",
       "    <tr>\n",
       "      <th>3122</th>\n",
       "      <td>BTS (방탄소년단) 'Dynamite' Official MV</td>\n",
       "      <td>15735551</td>\n",
       "    </tr>\n",
       "    <tr>\n",
       "      <th>2892</th>\n",
       "      <td>BTS (방탄소년단) 'Dynamite' Official MV</td>\n",
       "      <td>15460834</td>\n",
       "    </tr>\n",
       "  </tbody>\n",
       "</table>\n",
       "</div>"
      ],
      "text/plain": [
       "                                    title     likes\n",
       "3619   BTS (방탄소년단) 'Dynamite' Official MV  16115240\n",
       "52057    BTS (방탄소년단) 'Butter' Official MV  16021542\n",
       "3371   BTS (방탄소년단) 'Dynamite' Official MV  15948359\n",
       "3122   BTS (방탄소년단) 'Dynamite' Official MV  15735551\n",
       "2892   BTS (방탄소년단) 'Dynamite' Official MV  15460834"
      ]
     },
     "execution_count": 38,
     "metadata": {},
     "output_type": "execute_result"
    }
   ],
   "source": [
    "top_5_likes = df[['title', 'likes']].sort_values(by='likes', ascending=False).head(5)\n",
    "top_5_likes"
   ]
  },
  {
   "cell_type": "code",
   "execution_count": null,
   "metadata": {},
   "outputs": [
    {
     "data": {
      "text/html": [
       "<div>\n",
       "<style scoped>\n",
       "    .dataframe tbody tr th:only-of-type {\n",
       "        vertical-align: middle;\n",
       "    }\n",
       "\n",
       "    .dataframe tbody tr th {\n",
       "        vertical-align: top;\n",
       "    }\n",
       "\n",
       "    .dataframe thead th {\n",
       "        text-align: right;\n",
       "    }\n",
       "</style>\n",
       "<table border=\"1\" class=\"dataframe\">\n",
       "  <thead>\n",
       "    <tr style=\"text-align: right;\">\n",
       "      <th></th>\n",
       "      <th>comment_count</th>\n",
       "    </tr>\n",
       "    <tr>\n",
       "      <th>title</th>\n",
       "      <th></th>\n",
       "    </tr>\n",
       "  </thead>\n",
       "  <tbody>\n",
       "    <tr>\n",
       "      <th>BTS (방탄소년단) 'Dynamite' Official MV</th>\n",
       "      <td>54101978</td>\n",
       "    </tr>\n",
       "    <tr>\n",
       "      <th>BTS (방탄소년단) 'Life Goes On' Official MV</th>\n",
       "      <td>30045984</td>\n",
       "    </tr>\n",
       "    <tr>\n",
       "      <th>EXO 엑소 'Don't fight the feeling' MV</th>\n",
       "      <td>27054550</td>\n",
       "    </tr>\n",
       "    <tr>\n",
       "      <th>GAME  (Full Video)  Shooter Kahlon | Sidhu Moose Wala | Hunny PK Films | Gold Media | 5911 Records</th>\n",
       "      <td>26626482</td>\n",
       "    </tr>\n",
       "    <tr>\n",
       "      <th>BLACKPINK - 'Ice Cream (with Selena Gomez)' M/V</th>\n",
       "      <td>23191280</td>\n",
       "    </tr>\n",
       "  </tbody>\n",
       "</table>\n",
       "</div>"
      ],
      "text/plain": [
       "                                                    comment_count\n",
       "title                                                            \n",
       "BTS (방탄소년단) 'Dynamite' Official MV                       54101978\n",
       "BTS (방탄소년단) 'Life Goes On' Official MV                   30045984\n",
       "EXO 엑소 'Don't fight the feeling' MV                      27054550\n",
       "GAME  (Full Video)  Shooter Kahlon | Sidhu Moos...       26626482\n",
       "BLACKPINK - 'Ice Cream (with Selena Gomez)' M/V          23191280"
      ]
     },
     "execution_count": 46,
     "metadata": {},
     "output_type": "execute_result"
    }
   ],
   "source": [
    "most_comments = df.groupby('title').agg({'comment_count': 'sum'}).sort_values(by='comment_count', ascending=False).head(5)\n",
    "most_comments"
   ]
  },
  {
   "cell_type": "code",
   "execution_count": null,
   "metadata": {
    "vscode": {
     "languageId": "ruby"
    }
   },
   "outputs": [
    {
     "name": "stdout",
     "output_type": "stream",
     "text": [
      "Top High-Engagement Videos:\n",
      "                                                     title  like_to_view_ratio  \\\n",
      "221731  ✓ Kallo कल्लो | Ajay Hooda | Princy (Live Show...            0.639276   \n",
      "111007  Kamle | Official Music Video | @akasaofficial ...            0.458718   \n",
      "128020  #BTS #방탄소년단 'Yet To Come (The Most Beautiful M...            0.457560   \n",
      "111244  mustryious gun (इसको पकड़कर लेट नहीं सकते) | #...            0.440122   \n",
      "127958  #BTS #방탄소년단 'Yet To Come (The Most Beautiful M...            0.406840   \n",
      "162210                   RM '들꽃놀이 (with 조유진)' Official MV            0.402858   \n",
      "120054  SAPNE - Desi Gamers (Official Music Video) Ft....            0.400546   \n",
      "169281                    Dono Kya Dekh Rahe 😲 Phone Mein            0.400489   \n",
      "192019             [n월의 석진] Message from Jin : May 2023 💌            0.393889   \n",
      "2936    Celebrate Onam #WithMe🔥🔥🔥 || നിങ്ങള്‍ക്കുള്ള ഓ...            0.388079   \n",
      "\n",
      "        comment_to_view_ratio  \n",
      "221731               0.043643  \n",
      "111007               0.165337  \n",
      "128020               0.010090  \n",
      "111244               0.002565  \n",
      "127958               0.009856  \n",
      "162210               0.050486  \n",
      "120054               0.109279  \n",
      "169281               0.011955  \n",
      "192019               0.027464  \n",
      "2936                 0.343676  \n"
     ]
    }
   ],
   "source": [
    "df['like_to_view_ratio'] = df['likes'] / df['view_count']\n",
    "df['comment_to_view_ratio'] = df['comment_count'] / df['view_count']\n",
    "\n",
    "# Videos with the highest engagement\n",
    "high_engagement = df[['title', 'like_to_view_ratio', 'comment_to_view_ratio']].sort_values(\n",
    "    by='like_to_view_ratio', ascending=False\n",
    ").head(10)\n",
    "print(\"Top High-Engagement Videos:\\n\", high_engagement)"
   ]
  },
  {
   "cell_type": "code",
   "execution_count": null,
   "metadata": {
    "vscode": {
     "languageId": "ruby"
    }
   },
   "outputs": [
    {
     "data": {
      "image/png": "[encoded data removed]",
      "text/plain": [
       "<Figure size 640x480 with 2 Axes>"
      ]
     },
     "metadata": {},
     "output_type": "display_data"
    }
   ],
   "source": [
    "correlation_matrix = df[['view_count', 'likes', 'dislikes', 'comment_count']].corr()\n",
    "\n",
    "sns.heatmap(correlation_matrix, annot=True, cmap='Blues')\n",
    "plt.title('Correlation Heatmap')\n",
    "plt.show()"
   ]
  },
  {
   "cell_type": "code",
   "execution_count": null,
   "metadata": {},
   "outputs": [
    {
     "name": "stdout",
     "output_type": "stream",
     "text": [
      "             Tag  Count\n",
      "0         [None]  43702\n",
      "1         comedy  11966\n",
      "2          funny   8107\n",
      "3       trending   7173\n",
      "4           vlog   4951\n",
      "5         shorts   4906\n",
      "6  entertainment   4852\n",
      "7         family   4501\n",
      "8     तारक मेहता   3660\n",
      "9   comedy video   3629\n"
     ]
    }
   ],
   "source": [
    "from collections import Counter\n",
    "\n",
    "# Extract tags and split by '|'\n",
    "tags_series = df['tags'].str.split('|').explode()\n",
    "\n",
    "# Count occurrences of each tag\n",
    "tag_counts = Counter(tags_series)\n",
    "\n",
    "# Get the top 10 tags\n",
    "top_tags = tag_counts.most_common(10)\n",
    "top_tags_df = pd.DataFrame(top_tags, columns=['Tag', 'Count'])\n",
    "\n",
    "print(top_tags_df)"
   ]
  },
  {
   "cell_type": "code",
   "execution_count": null,
   "metadata": {},
   "outputs": [
    {
     "data": {
      "text/html": [
       "<div>\n",
       "<style scoped>\n",
       "    .dataframe tbody tr th:only-of-type {\n",
       "        vertical-align: middle;\n",
       "    }\n",
       "\n",
       "    .dataframe tbody tr th {\n",
       "        vertical-align: top;\n",
       "    }\n",
       "\n",
       "    .dataframe thead th {\n",
       "        text-align: right;\n",
       "    }\n",
       "</style>\n",
       "<table border=\"1\" class=\"dataframe\">\n",
       "  <thead>\n",
       "    <tr style=\"text-align: right;\">\n",
       "      <th></th>\n",
       "      <th>title</th>\n",
       "      <th>view_count</th>\n",
       "    </tr>\n",
       "  </thead>\n",
       "  <tbody>\n",
       "    <tr>\n",
       "      <th>147338</th>\n",
       "      <td>Tom and Jerry (Anu&amp;Rithvi) End twist 😂#shorts</td>\n",
       "      <td>131645297</td>\n",
       "    </tr>\n",
       "    <tr>\n",
       "      <th>147080</th>\n",
       "      <td>Tom and Jerry (Anu&amp;Rithvi) End twist 😂#shorts</td>\n",
       "      <td>126153825</td>\n",
       "    </tr>\n",
       "    <tr>\n",
       "      <th>146850</th>\n",
       "      <td>Tom and Jerry (Anu&amp;Rithvi) End twist 😂#shorts</td>\n",
       "      <td>118581029</td>\n",
       "    </tr>\n",
       "    <tr>\n",
       "      <th>146643</th>\n",
       "      <td>Tom and Jerry (Anu&amp;Rithvi) End twist 😂#shorts</td>\n",
       "      <td>103931096</td>\n",
       "    </tr>\n",
       "    <tr>\n",
       "      <th>146442</th>\n",
       "      <td>Tom and Jerry (Anu&amp;Rithvi) End twist 😂#shorts</td>\n",
       "      <td>70844331</td>\n",
       "    </tr>\n",
       "  </tbody>\n",
       "</table>\n",
       "</div>"
      ],
      "text/plain": [
       "                                                title  view_count\n",
       "147338  Tom and Jerry (Anu&Rithvi) End twist 😂#shorts   131645297\n",
       "147080  Tom and Jerry (Anu&Rithvi) End twist 😂#shorts   126153825\n",
       "146850  Tom and Jerry (Anu&Rithvi) End twist 😂#shorts   118581029\n",
       "146643  Tom and Jerry (Anu&Rithvi) End twist 😂#shorts   103931096\n",
       "146442  Tom and Jerry (Anu&Rithvi) End twist 😂#shorts    70844331"
      ]
     },
     "execution_count": 54,
     "metadata": {},
     "output_type": "execute_result"
    }
   ],
   "source": [
    "top_5_comments_disabled = df[df['comments_disabled']].sort_values(by='view_count', ascending=False).head(5)\n",
    "top_5_comments_disabled[['title', 'view_count']]"
   ]
  },
  {
   "cell_type": "code",
   "execution_count": null,
   "metadata": {},
   "outputs": [
    {
     "data": {
      "text/html": [
       "<div>\n",
       "<style scoped>\n",
       "    .dataframe tbody tr th:only-of-type {\n",
       "        vertical-align: middle;\n",
       "    }\n",
       "\n",
       "    .dataframe tbody tr th {\n",
       "        vertical-align: top;\n",
       "    }\n",
       "\n",
       "    .dataframe thead th {\n",
       "        text-align: right;\n",
       "    }\n",
       "</style>\n",
       "<table border=\"1\" class=\"dataframe\">\n",
       "  <thead>\n",
       "    <tr style=\"text-align: right;\">\n",
       "      <th></th>\n",
       "      <th>title</th>\n",
       "      <th>view_count</th>\n",
       "      <th>likes</th>\n",
       "      <th>dislikes</th>\n",
       "    </tr>\n",
       "  </thead>\n",
       "  <tbody>\n",
       "    <tr>\n",
       "      <th>33</th>\n",
       "      <td>Face To Face With Sarileru Neekevvaru Fight Sp...</td>\n",
       "      <td>336448</td>\n",
       "      <td>0</td>\n",
       "      <td>0</td>\n",
       "    </tr>\n",
       "    <tr>\n",
       "      <th>55</th>\n",
       "      <td>నా కిచెన్ టూర్ పార్ట్-1 || నా వంటిల్లు నేను ఎల...</td>\n",
       "      <td>133566</td>\n",
       "      <td>0</td>\n",
       "      <td>0</td>\n",
       "    </tr>\n",
       "    <tr>\n",
       "      <th>76</th>\n",
       "      <td>Krishna Jayanthi Special 2020 | கிருஷ்ண ஜெயந்த...</td>\n",
       "      <td>90810</td>\n",
       "      <td>0</td>\n",
       "      <td>0</td>\n",
       "    </tr>\n",
       "    <tr>\n",
       "      <th>109</th>\n",
       "      <td>Rahat Indori Death : राहत इंदौरी का निधन, Pneu...</td>\n",
       "      <td>487229</td>\n",
       "      <td>0</td>\n",
       "      <td>0</td>\n",
       "    </tr>\n",
       "    <tr>\n",
       "      <th>129</th>\n",
       "      <td>Ayodhya में Ram Mandir Bhoomi Pujan पर Pakista...</td>\n",
       "      <td>3333791</td>\n",
       "      <td>0</td>\n",
       "      <td>0</td>\n",
       "    </tr>\n",
       "    <tr>\n",
       "      <th>...</th>\n",
       "      <td>...</td>\n",
       "      <td>...</td>\n",
       "      <td>...</td>\n",
       "      <td>...</td>\n",
       "    </tr>\n",
       "    <tr>\n",
       "      <th>251072</th>\n",
       "      <td>We Built SECRET Rooms in my Home You’d Never F...</td>\n",
       "      <td>1189513</td>\n",
       "      <td>0</td>\n",
       "      <td>0</td>\n",
       "    </tr>\n",
       "    <tr>\n",
       "      <th>251113</th>\n",
       "      <td>Akka Pelli Chelli Lolli || Promo || Niha Siste...</td>\n",
       "      <td>1035368</td>\n",
       "      <td>0</td>\n",
       "      <td>0</td>\n",
       "    </tr>\n",
       "    <tr>\n",
       "      <th>251161</th>\n",
       "      <td>First vlog with my Silly Little Squad || Prasa...</td>\n",
       "      <td>95506</td>\n",
       "      <td>0</td>\n",
       "      <td>0</td>\n",
       "    </tr>\n",
       "    <tr>\n",
       "      <th>251175</th>\n",
       "      <td>MOCO STORE EVENT FREE FIRE| FREE FIRE NEW EVEN...</td>\n",
       "      <td>40147</td>\n",
       "      <td>0</td>\n",
       "      <td>0</td>\n",
       "    </tr>\n",
       "    <tr>\n",
       "      <th>251272</th>\n",
       "      <td>Powerful Hanuman Chalisa | HanuMan(Telugu) | T...</td>\n",
       "      <td>1542862</td>\n",
       "      <td>0</td>\n",
       "      <td>0</td>\n",
       "    </tr>\n",
       "  </tbody>\n",
       "</table>\n",
       "<p>2288 rows × 4 columns</p>\n",
       "</div>"
      ],
      "text/plain": [
       "                                                    title  view_count  likes  \\\n",
       "33      Face To Face With Sarileru Neekevvaru Fight Sp...      336448      0   \n",
       "55      నా కిచెన్ టూర్ పార్ట్-1 || నా వంటిల్లు నేను ఎల...      133566      0   \n",
       "76      Krishna Jayanthi Special 2020 | கிருஷ்ண ஜெயந்த...       90810      0   \n",
       "109     Rahat Indori Death : राहत इंदौरी का निधन, Pneu...      487229      0   \n",
       "129     Ayodhya में Ram Mandir Bhoomi Pujan पर Pakista...     3333791      0   \n",
       "...                                                   ...         ...    ...   \n",
       "251072  We Built SECRET Rooms in my Home You’d Never F...     1189513      0   \n",
       "251113  Akka Pelli Chelli Lolli || Promo || Niha Siste...     1035368      0   \n",
       "251161  First vlog with my Silly Little Squad || Prasa...       95506      0   \n",
       "251175  MOCO STORE EVENT FREE FIRE| FREE FIRE NEW EVEN...       40147      0   \n",
       "251272  Powerful Hanuman Chalisa | HanuMan(Telugu) | T...     1542862      0   \n",
       "\n",
       "        dislikes  \n",
       "33             0  \n",
       "55             0  \n",
       "76             0  \n",
       "109            0  \n",
       "129            0  \n",
       "...          ...  \n",
       "251072         0  \n",
       "251113         0  \n",
       "251161         0  \n",
       "251175         0  \n",
       "251272         0  \n",
       "\n",
       "[2288 rows x 4 columns]"
      ]
     },
     "execution_count": 55,
     "metadata": {},
     "output_type": "execute_result"
    }
   ],
   "source": [
    "ratings_disabled_videos = df[df['ratings_disabled']]\n",
    "ratings_disabled_videos[['title', 'view_count', 'likes', 'dislikes']]"
   ]
  },
  {
   "cell_type": "code",
   "execution_count": 40,
   "metadata": {},
   "outputs": [
    {
     "data": {
      "image/png": "[encoded data removed]",
      "text/plain": [
       "<Figure size 1000x600 with 1 Axes>"
      ]
     },
     "metadata": {},
     "output_type": "display_data"
    }
   ],
   "source": [
    "top_5_channels = gb.head(5)\n",
    "plt.figure(figsize=(10, 6))\n",
    "sns.barplot(x=top_5_channels['view_count'], y=top_5_channels.index, palette='magma')\n",
    "plt.xlabel('View Count')\n",
    "plt.ylabel('Channel Title')\n",
    "plt.title('Top 5 Channel Titles by View Count')\n",
    "plt.show()"
   ]
  },
  {
   "cell_type": "code",
   "execution_count": 43,
   "metadata": {},
   "outputs": [
    {
     "data": {
      "text/html": [
       "<div>\n",
       "<style scoped>\n",
       "    .dataframe tbody tr th:only-of-type {\n",
       "        vertical-align: middle;\n",
       "    }\n",
       "\n",
       "    .dataframe tbody tr th {\n",
       "        vertical-align: top;\n",
       "    }\n",
       "\n",
       "    .dataframe thead th {\n",
       "        text-align: right;\n",
       "    }\n",
       "</style>\n",
       "<table border=\"1\" class=\"dataframe\">\n",
       "  <thead>\n",
       "    <tr style=\"text-align: right;\">\n",
       "      <th></th>\n",
       "      <th>title</th>\n",
       "      <th>dislikes</th>\n",
       "    </tr>\n",
       "  </thead>\n",
       "  <tbody>\n",
       "    <tr>\n",
       "      <th>2070</th>\n",
       "      <td>Sadak 2 | Official Trailer | Sanjay | Pooja | ...</td>\n",
       "      <td>12341474</td>\n",
       "    </tr>\n",
       "    <tr>\n",
       "      <th>1809</th>\n",
       "      <td>Sadak 2 | Official Trailer | Sanjay | Pooja | ...</td>\n",
       "      <td>12237370</td>\n",
       "    </tr>\n",
       "    <tr>\n",
       "      <th>1548</th>\n",
       "      <td>Sadak 2 | Official Trailer | Sanjay | Pooja | ...</td>\n",
       "      <td>12066691</td>\n",
       "    </tr>\n",
       "    <tr>\n",
       "      <th>1313</th>\n",
       "      <td>Sadak 2 | Official Trailer | Sanjay | Pooja | ...</td>\n",
       "      <td>11828671</td>\n",
       "    </tr>\n",
       "    <tr>\n",
       "      <th>1099</th>\n",
       "      <td>Sadak 2 | Official Trailer | Sanjay | Pooja | ...</td>\n",
       "      <td>11610617</td>\n",
       "    </tr>\n",
       "  </tbody>\n",
       "</table>\n",
       "</div>"
      ],
      "text/plain": [
       "                                                  title  dislikes\n",
       "2070  Sadak 2 | Official Trailer | Sanjay | Pooja | ...  12341474\n",
       "1809  Sadak 2 | Official Trailer | Sanjay | Pooja | ...  12237370\n",
       "1548  Sadak 2 | Official Trailer | Sanjay | Pooja | ...  12066691\n",
       "1313  Sadak 2 | Official Trailer | Sanjay | Pooja | ...  11828671\n",
       "1099  Sadak 2 | Official Trailer | Sanjay | Pooja | ...  11610617"
      ]
     },
     "execution_count": 43,
     "metadata": {},
     "output_type": "execute_result"
    }
   ],
   "source": [
    "top_5_dislikes = df[['title', 'dislikes']].sort_values(by='dislikes', ascending=False).head(5)\n",
    "top_5_dislikes"
   ]
  },
  {
   "cell_type": "code",
   "execution_count": 44,
   "metadata": {},
   "outputs": [
    {
     "data": {
      "text/html": [
       "<div>\n",
       "<style scoped>\n",
       "    .dataframe tbody tr th:only-of-type {\n",
       "        vertical-align: middle;\n",
       "    }\n",
       "\n",
       "    .dataframe tbody tr th {\n",
       "        vertical-align: top;\n",
       "    }\n",
       "\n",
       "    .dataframe thead th {\n",
       "        text-align: right;\n",
       "    }\n",
       "</style>\n",
       "<table border=\"1\" class=\"dataframe\">\n",
       "  <thead>\n",
       "    <tr style=\"text-align: right;\">\n",
       "      <th></th>\n",
       "      <th>title</th>\n",
       "      <th>likes</th>\n",
       "    </tr>\n",
       "  </thead>\n",
       "  <tbody>\n",
       "    <tr>\n",
       "      <th>3619</th>\n",
       "      <td>BTS (방탄소년단) 'Dynamite' Official MV</td>\n",
       "      <td>16115240</td>\n",
       "    </tr>\n",
       "    <tr>\n",
       "      <th>52057</th>\n",
       "      <td>BTS (방탄소년단) 'Butter' Official MV</td>\n",
       "      <td>16021542</td>\n",
       "    </tr>\n",
       "    <tr>\n",
       "      <th>3371</th>\n",
       "      <td>BTS (방탄소년단) 'Dynamite' Official MV</td>\n",
       "      <td>15948359</td>\n",
       "    </tr>\n",
       "    <tr>\n",
       "      <th>3122</th>\n",
       "      <td>BTS (방탄소년단) 'Dynamite' Official MV</td>\n",
       "      <td>15735551</td>\n",
       "    </tr>\n",
       "    <tr>\n",
       "      <th>2892</th>\n",
       "      <td>BTS (방탄소년단) 'Dynamite' Official MV</td>\n",
       "      <td>15460834</td>\n",
       "    </tr>\n",
       "  </tbody>\n",
       "</table>\n",
       "</div>"
      ],
      "text/plain": [
       "                                    title     likes\n",
       "3619   BTS (방탄소년단) 'Dynamite' Official MV  16115240\n",
       "52057    BTS (방탄소년단) 'Butter' Official MV  16021542\n",
       "3371   BTS (방탄소년단) 'Dynamite' Official MV  15948359\n",
       "3122   BTS (방탄소년단) 'Dynamite' Official MV  15735551\n",
       "2892   BTS (방탄소년단) 'Dynamite' Official MV  15460834"
      ]
     },
     "execution_count": 44,
     "metadata": {},
     "output_type": "execute_result"
    }
   ],
   "source": [
    "top_5_likes[['title', 'likes']]"
   ]
  }
 ],
 "metadata": {
  "kernelspec": {
   "display_name": "base",
   "language": "python",
   "name": "python3"
  },
  "language_info": {
   "codemirror_mode": {
    "name": "ipython",
    "version": 3
   },
   "file_extension": ".py",
   "mimetype": "text/x-python",
   "name": "python",
   "nbconvert_exporter": "python",
   "pygments_lexer": "ipython3",
   "version": "3.10.10"
  }
 },
 "nbformat": 4,
 "nbformat_minor": 2
}
